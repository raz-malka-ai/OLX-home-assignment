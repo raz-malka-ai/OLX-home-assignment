{
 "cells": [
  {
   "cell_type": "code",
   "execution_count": 12,
   "metadata": {
    "collapsed": true
   },
   "outputs": [],
   "source": [
    "# Import modules \n",
    "from scripts.dataset import Dataset\n",
    "from scripts.classification_model import Classification_model\n",
    "from scripts.classification_model import Hyper_params,Lr,Lr_reduce_on_plateau,Early_stop,Learning_params\n",
    "from scripts.model_evaluator import Model_evaluator\n",
    "from scripts import classifier_utils\n",
    "from time import gmtime, strftime\n",
    "from random import uniform\n",
    "import sys\n",
    "import os\n",
    "import tensorflow as tf\n",
    "from keras import backend as K\n",
    "import keras.backend.tensorflow_backend as KTF\n",
    "import numpy as np\n",
    "\n",
    "\n",
    "def get_session(gpu_fraction=0.8):\n",
    "    'Allocate gpu_fraction its memory for computattion'\n",
    "\n",
    "    num_threads = os.environ.get('OMP_NUM_THREADS')\n",
    "    gpu_options = tf.GPUOptions(per_process_gpu_memory_fraction=gpu_fraction)\n",
    "\n",
    "    if num_threads:\n",
    "        return tf.Session(config=tf.ConfigProto(\n",
    "            gpu_options=gpu_options, intra_op_parallelism_threads=num_threads))\n",
    "    else:\n",
    "        return tf.Session(config=tf.ConfigProto(gpu_options=gpu_options))\n",
    "\n",
    "KTF.set_session(get_session())\n",
    "tf.GraphKeys.VARIABLES = tf.GraphKeys.GLOBAL_VARIABLES\n",
    "cur_time = strftime(\"%Y-%m-%d %H:%M:%S\", gmtime())\n",
    "\n",
    "# This code supports tensorflow backend only\n",
    "assert K.image_dim_ordering() == 'tf'"
   ]
  },
  {
   "cell_type": "code",
   "execution_count": 13,
   "metadata": {
    "collapsed": true
   },
   "outputs": [],
   "source": [
    "test_dir = 'test'\n",
    "test_file = 'test_dataset.txt'\n",
    "CLASS_NAMES = ['1521','1703','1707','1729','1751','1755','1837','2037','2525','2526']\n",
    "PRETRAINED_MODEL = 'VGG19' #TODO: check using Resnet 50"
   ]
  },
  {
   "cell_type": "code",
   "execution_count": 14,
   "metadata": {},
   "outputs": [
    {
     "name": "stdout",
     "output_type": "stream",
     "text": [
      "Copying images to test dir\n",
      "pre-processing test/images dir\n",
      "Found 4674 images belonging to 1 classes.\n"
     ]
    }
   ],
   "source": [
    "# Copy images to test dir \n",
    "\n",
    "test_images = classifier_utils.load_test_images(test_file, test_dir,PRETRAINED_MODEL)\n",
    "# Predict images and save\n"
   ]
  },
  {
   "cell_type": "code",
   "execution_count": 1,
   "metadata": {},
   "outputs": [],
   "source": [
    "best_hyper_params = Hyper_params(lr=Lr(init=0.00102382988483,decay=0.0), optimization_method='Adam',\n",
    "                           momentum=0.9, weight_decay=0.000173410239311, dropout_rate=0.491165771543,\n",
    "                           freeze_layer_id=21, architecture_head_type='no_layers',\n",
    "                           is_use_batch_normalization=True, nb_filters_conv_1_1_first=128,\n",
    "                           nb_filters_conv_1_1_second=32, fc_layer_size_1=128, fc_layer_size_2=64)\n",
    "\n",
    "prod_weights_dir = 'best_model'\n",
    "prod_summary_dir = prod_weights_dir\n",
    "prod_model = Classification_model(10, prod_weights_dir, prod_weights_dir, PRETRAINED_MODEL,False)\n",
    "prod_model.build_model(input_shape=test_images[0,:,:,:].shape,\n",
    "                       hyper_params=best_hyper_params)\n",
    "\n",
    "prod_model.model.load_weights('best_model/production_weights.h5')#os.path.join(prod_weights_dir,'production_weights.h5'))\n",
    "predictions = prod_model.model.predict(test_images,verbose=1)\n",
    "out_classes = np.argmax(predictions, axis=1)"
   ]
  },
  {
   "cell_type": "code",
   "execution_count": null,
   "metadata": {
    "collapsed": true
   },
   "outputs": [],
   "source": [
    "# Generate output\n",
    "classifier_utils.generate_output_file(test_file, 'results_test.txt', out_classes, CLASS_NAMES)"
   ]
  }
 ],
 "metadata": {
  "kernelspec": {
   "display_name": "Python 2",
   "language": "python",
   "name": "python2"
  },
  "language_info": {
   "codemirror_mode": {
    "name": "ipython",
    "version": 2
   },
   "file_extension": ".py",
   "mimetype": "text/x-python",
   "name": "python",
   "nbconvert_exporter": "python",
   "pygments_lexer": "ipython2",
   "version": "2.7.6"
  }
 },
 "nbformat": 4,
 "nbformat_minor": 2
}
