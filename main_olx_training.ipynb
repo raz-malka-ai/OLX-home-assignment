{
 "cells": [
  {
   "cell_type": "code",
   "execution_count": null,
   "metadata": {
    "collapsed": true
   },
   "outputs": [],
   "source": [
    "# Thoghts\n",
    "# Add more pretrained networks\n",
    "# Use additional data such as define an item as number od images:\n",
    "# - run each network over every image and decide using weighting voting \n",
    "#   using softmax probability output) to decide  \n",
    "# - Give a weight to each image in an item using prior knowledge - for example if the first image is usually\n",
    "#   the most important etc.\n",
    "# - Novel architecture - run each image of an item over some or all conv/relu/pooling layers,\n",
    "#   then concat output and add additional fully connected layers and get one category output per item\n",
    "#   * This will probably involve some 1X1 conv to decrease dimensonality as the first fully connected\n",
    "#     will be extremly large\n",
    "# - Use bigger size for input images or original size with average pooling (fc constraints input size)"
   ]
  },
  {
   "cell_type": "code",
   "execution_count": 7,
   "metadata": {
    "collapsed": true
   },
   "outputs": [],
   "source": [
    "# Assumptions:\n",
    "# Multi-class problem (and not Multi label)\n",
    "# I used every image independently and didn't added the item correlation. The easiest and fastest way\n",
    "# to add this prior knowledge is by voting all outputs for each unique item \n",
    "# though there are 11000 training exam, I succeeded fetching only 10000, didn't bother me that much as\n",
    "# it was equally seperated between the classes\n",
    "\n",
    "# - I've neglected ad index as (assumption above)\n",
    "# - As I work with Keras it was easier for me for me to copy all images and set them in unique folders\n",
    "#   for each class  For viszualization purposes\n",
    "\n",
    "# Phases:\n",
    "# - Set images in dirs by categories\n",
    "# - Examine - \n",
    "# * High imbalance dataset!!! options - augment a lot most of the data, use weighted loss\n",
    "# * Trained again with weighted loss\n",
    "# * Specifically, some classes are strongly related to others. It'll surely increase accuracy by merging\n",
    "#   categories and first classify shoes,jewlery,cosmetics,Accessories,watches and clothing.\n",
    "#   Then we can go deeper to each sub category - one classifier for shoes and wedding shoes,\n",
    "#   and one classifier for clothing,maternity clothong, wedding suits and wedding dresses.  \n",
    "#   This will help in the imbalance problem in an order of magnitude, for other orders it will be best\n",
    "#   to augment more samples from low classes\n",
    "# * better to first merge these classes and then classiffy solely between shoes and wedding shoes \n",
    "# - Resize to 224*224 (vgg constraint) and examine if sufficient (it will be seen by the results ),\n",
    "#   Keep aspect ratio by padding with zeros in image borders\n",
    "#   preprocess as in vgg(subtract mean)\n",
    "# - Train Val split - 8732 train and 1500 validation\n",
    "# - augmentation\n",
    "#  * did mirroring, shift and zoom. didn't did rotation as I assume this will ruin the inner structure\n",
    "#   of the data. It's possible to also use luminance changes (convert images to lab space) . augment 2X images\n",
    "# - Examine\n",
    "# - Decide a method to work - because no prior knowledge and time to extract features - obviously cnn's\n",
    "#  * Imagenet for the rescue, I used VGG19 due to it's simplicity of structure and proven results.\n",
    "#   With more time I would also try Resnet50 \n",
    "# - Only finetune (not enought data and natural images)\n",
    "# - Start drilling trainable \n",
    "# - Simple fine tune for last layer didn't yield\n",
    "# - Drill in in trainable layers to see where overfit is inevitable, I got that training any convolution\n",
    "#   layer provides a big overfit, So I trained only my addition for the network\n",
    "# - Random search over parameter space (log space) for one epoch\n",
    "#   Chose best hyper-parameter and trained - reached 83% on validation, high imbalance\n",
    "#   By examining conf matrix one can see problem of imbalance. Learning curves was hard to  \n",
    "#   investigate due the fact that networked converged pretty quickly, with more data it would be an option.\n",
    "#   Data learning curve could have been nice but there wasn't an option to add more data so I didn't compute\n",
    "#   Used weighted loss - though improving as expected the precision and recall (write what they are)\n",
    "# - Choose best hyper-parameter set and fully train over full training data (10500)\n",
    "#   It didn't improve the accuracy so I preffered to stick with the balanced loss model.\n",
    "# - Train over all training data"
   ]
  },
  {
   "cell_type": "code",
   "execution_count": 1,
   "metadata": {},
   "outputs": [
    {
     "name": "stderr",
     "output_type": "stream",
     "text": [
      "Using TensorFlow backend.\n"
     ]
    }
   ],
   "source": [
    "# Import modules \n",
    "from scripts.dataset import Dataset\n",
    "from scripts.classification_model import Classification_model\n",
    "from scripts.classification_model import Hyper_params,Lr,Lr_reduce_on_plateau,Early_stop,Learning_params\n",
    "from scripts.model_evaluator import Model_evaluator\n",
    "from scripts import classifier_utils\n",
    "from time import gmtime, strftime\n",
    "from random import uniform\n",
    "import sys\n",
    "import os\n",
    "import tensorflow as tf\n",
    "from keras import backend as K\n",
    "import keras.backend.tensorflow_backend as KTF\n",
    "import numpy as np\n",
    "\n",
    "\n",
    "def get_session(gpu_fraction=0.8):\n",
    "    'Allocate gpu_fraction its memory for computattion'\n",
    "\n",
    "    num_threads = os.environ.get('OMP_NUM_THREADS')\n",
    "    gpu_options = tf.GPUOptions(per_process_gpu_memory_fraction=gpu_fraction)\n",
    "\n",
    "    if num_threads:\n",
    "        return tf.Session(config=tf.ConfigProto(\n",
    "            gpu_options=gpu_options, intra_op_parallelism_threads=num_threads))\n",
    "    else:\n",
    "        return tf.Session(config=tf.ConfigProto(gpu_options=gpu_options))\n",
    "\n",
    "KTF.set_session(get_session())\n",
    "tf.GraphKeys.VARIABLES = tf.GraphKeys.GLOBAL_VARIABLES\n",
    "cur_time = strftime(\"%Y-%m-%d %H:%M:%S\", gmtime())\n",
    "\n",
    "# This code supports tensorflow backend only\n",
    "assert K.image_dim_ordering() == 'tf'"
   ]
  },
  {
   "cell_type": "code",
   "execution_count": 2,
   "metadata": {
    "collapsed": true
   },
   "outputs": [],
   "source": [
    "data_dir = 'data'\n",
    "train_file = 'train_dataset.txt'\n",
    "test_dir = 'test'\n",
    "test_file = 'test_dataset.txt'\n",
    "CLASS_NAMES = ['1521','1703','1707','1729','1751','1755','1837','2037','2525','2526']\n",
    "PRETRAINED_MODEL = 'VGG19' #TODO: check using Resnet 50"
   ]
  },
  {
   "cell_type": "code",
   "execution_count": 4,
   "metadata": {},
   "outputs": [
    {
     "name": "stdout",
     "output_type": "stream",
     "text": [
      "['1521', '1703', '1707', '1729', '1751', '1755', '1837', '2037', '2525', '2526']\n",
      "resizing images\n",
      "data/1521\n",
      "pre-processingdata/1521 dir\n",
      "data/1703\n",
      "pre-processingdata/1703 dir\n",
      "data/1707\n",
      "pre-processingdata/1707 dir\n",
      "data/1729\n",
      "pre-processingdata/1729 dir\n",
      "data/1751\n",
      "pre-processingdata/1751 dir\n",
      "data/1755\n",
      "pre-processingdata/1755 dir\n",
      "data/1837\n",
      "pre-processingdata/1837 dir\n",
      "data/2037\n",
      "pre-processingdata/2037 dir\n",
      "data/2525\n",
      "pre-processingdata/2525 dir\n",
      "data/2526\n",
      "pre-processingdata/2526 dir\n",
      "data/train/1521 created\n",
      "data/train/1703 created\n",
      "data/train/1707 created\n",
      "data/train/1729 created\n",
      "data/train/1751 created\n",
      "data/train/1755 created\n",
      "data/train/1837 created\n",
      "data/train/2037 created\n",
      "data/train/2525 created\n",
      "data/train/2526 created\n",
      "data/val/1521 created\n",
      "data/val/1703 created\n",
      "data/val/1707 created\n",
      "data/val/1729 created\n",
      "data/val/1751 created\n",
      "data/val/1755 created\n",
      "data/val/1837 created\n",
      "data/val/2037 created\n",
      "data/val/2525 created\n",
      "data/val/2526 created\n"
     ]
    }
   ],
   "source": [
    "# # # May run this this one time only\n",
    "\n",
    "## Copy images to data dir where each class images are in a specific folder \n",
    "classifier_utils.copy_images_to_class_dirs(train_file, data_dir, CLASS_NAMES)\n",
    "\n",
    "# # Split data to train val\n",
    "classifier_utils.resize_and_train_val_split(data_dir, CLASS_NAMES)"
   ]
  },
  {
   "cell_type": "code",
   "execution_count": 4,
   "metadata": {},
   "outputs": [
    {
     "name": "stdout",
     "output_type": "stream",
     "text": [
      "Creating train dataset\n",
      "data/train\n",
      "10 Classes detected:\n",
      "['1521', '1703', '1707', '1729', '1751', '1755', '1837', '2037', '2525', '2526']\n",
      "Loading 8698 unique images from data/train/ directory\n",
      "Found 8698 images belonging to 10 classes.\n",
      "loaded and augmented all images\n",
      "train shape: (17396, 224, 224, 3)\n",
      "Creating val dataset\n",
      "data/val\n",
      "10 Classes detected:\n",
      "['1521', '1703', '1707', '1729', '1751', '1755', '1837', '2037', '2525', '2526']\n",
      "Loading 1601 unique images from data/val/ directory\n",
      "Found 1601 images belonging to 10 classes.\n",
      "loaded and augmented all images\n",
      "train shape: (1601, 224, 224, 3)\n",
      "loading vgg 19 network\n",
      "____________________________________________________________________________________________________\n",
      "Layer (type)                     Output Shape          Param #     Connected to                     \n",
      "====================================================================================================\n",
      "input_1 (InputLayer)             (None, None, None, 3) 0                                            \n",
      "____________________________________________________________________________________________________\n",
      "block1_conv1 (Convolution2D)     (None, None, None, 64 1792        input_1[0][0]                    \n",
      "____________________________________________________________________________________________________\n",
      "block1_conv2 (Convolution2D)     (None, None, None, 64 36928       block1_conv1[0][0]               \n",
      "____________________________________________________________________________________________________\n",
      "block1_pool (MaxPooling2D)       (None, None, None, 64 0           block1_conv2[0][0]               \n",
      "____________________________________________________________________________________________________\n",
      "block2_conv1 (Convolution2D)     (None, None, None, 12 73856       block1_pool[0][0]                \n",
      "____________________________________________________________________________________________________\n",
      "block2_conv2 (Convolution2D)     (None, None, None, 12 147584      block2_conv1[0][0]               \n",
      "____________________________________________________________________________________________________\n",
      "block2_pool (MaxPooling2D)       (None, None, None, 12 0           block2_conv2[0][0]               \n",
      "____________________________________________________________________________________________________\n",
      "block3_conv1 (Convolution2D)     (None, None, None, 25 295168      block2_pool[0][0]                \n",
      "____________________________________________________________________________________________________\n",
      "block3_conv2 (Convolution2D)     (None, None, None, 25 590080      block3_conv1[0][0]               \n",
      "____________________________________________________________________________________________________\n",
      "block3_conv3 (Convolution2D)     (None, None, None, 25 590080      block3_conv2[0][0]               \n",
      "____________________________________________________________________________________________________\n",
      "block3_conv4 (Convolution2D)     (None, None, None, 25 590080      block3_conv3[0][0]               \n",
      "____________________________________________________________________________________________________\n",
      "block3_pool (MaxPooling2D)       (None, None, None, 25 0           block3_conv4[0][0]               \n",
      "____________________________________________________________________________________________________\n",
      "block4_conv1 (Convolution2D)     (None, None, None, 51 1180160     block3_pool[0][0]                \n",
      "____________________________________________________________________________________________________\n",
      "block4_conv2 (Convolution2D)     (None, None, None, 51 2359808     block4_conv1[0][0]               \n",
      "____________________________________________________________________________________________________\n",
      "block4_conv3 (Convolution2D)     (None, None, None, 51 2359808     block4_conv2[0][0]               \n",
      "____________________________________________________________________________________________________\n",
      "block4_conv4 (Convolution2D)     (None, None, None, 51 2359808     block4_conv3[0][0]               \n",
      "____________________________________________________________________________________________________\n",
      "block4_pool (MaxPooling2D)       (None, None, None, 51 0           block4_conv4[0][0]               \n",
      "____________________________________________________________________________________________________\n",
      "block5_conv1 (Convolution2D)     (None, None, None, 51 2359808     block4_pool[0][0]                \n",
      "____________________________________________________________________________________________________\n",
      "block5_conv2 (Convolution2D)     (None, None, None, 51 2359808     block5_conv1[0][0]               \n",
      "____________________________________________________________________________________________________\n",
      "block5_conv3 (Convolution2D)     (None, None, None, 51 2359808     block5_conv2[0][0]               \n",
      "____________________________________________________________________________________________________\n",
      "block5_conv4 (Convolution2D)     (None, None, None, 51 2359808     block5_conv3[0][0]               \n",
      "____________________________________________________________________________________________________\n",
      "block5_pool (MaxPooling2D)       (None, None, None, 51 0           block5_conv4[0][0]               \n",
      "====================================================================================================\n",
      "Total params: 20,024,384\n",
      "Trainable params: 0\n",
      "Non-trainable params: 20,024,384\n",
      "____________________________________________________________________________________________________\n"
     ]
    }
   ],
   "source": [
    "# Create experiment dirs (weights, summary)\n",
    "[experiments_dir, model_dir, weights_dir, summary_dir] = classifier_utils.create_experiment_directories()\n",
    "\n",
    "print 'Creating train dataset'\n",
    "train_dataset = Dataset(data_dir,'train', PRETRAINED_MODEL,\n",
    "                        class_names=CLASS_NAMES,\n",
    "                        augment_factor=2.0, fliplr=True,\n",
    "                        shift_range=0.2, zoom_range=0.2)\n",
    "print 'Creating val dataset'\n",
    "val_dataset = Dataset(data_dir,'val', PRETRAINED_MODEL,\n",
    "                        class_names=CLASS_NAMES)\n",
    "\n",
    "# Init params for first time - initial guess\n",
    "#Hyperparams\n",
    "hyper_params = Hyper_params(lr=Lr(init=0.0001,decay=0.0), optimization_method='Adam',\n",
    "                           momentum=0.9, weight_decay=0.0002, dropout_rate=0.35,\n",
    "                           freeze_layer_id=21, architecture_head_type='no_layers',\n",
    "                           is_use_batch_normalization=True, nb_filters_conv_1_1_first=128,\n",
    "                           nb_filters_conv_1_1_second=32, fc_layer_size_1=128, fc_layer_size_2=64)\n",
    "#Learning params\n",
    "learning_params = Learning_params(nb_train_samples=train_dataset.nb_samples,\n",
    "                                 nb_validation_samples=val_dataset.nb_samples,\n",
    "                                 batch_size=32, nb_max_epoch=150, \n",
    "                                 nb_samples_per_epoch=train_dataset.nb_samples ,\n",
    "                                 nb_validation_samples_per_epoch=val_dataset.nb_samples,\n",
    "                                 ckpt_period=1, early_stop=Early_stop(is_use=True, min_delta=0.005,patience=15),\n",
    "                                 lr_reduce_on_plateau=Lr_reduce_on_plateau(is_use=True, factor=0.5, min_lr=1e-08, patience=3))\n",
    "# Init classification model\n",
    "clf_model = Classification_model(train_dataset.nb_classes,\n",
    "                 weights_dir, summary_dir,\n",
    "                 'VGG19',False)\n"
   ]
  },
  {
   "cell_type": "code",
   "execution_count": 22,
   "metadata": {
    "scrolled": true
   },
   "outputs": [],
   "source": [
    "# # # Hyper-Parameter search - don't run if not tuning, takes a lot of time !!\n",
    "\n",
    "# TODO: add iteration over network, augmentation on luminance, iteration over different augmentation factors\n",
    "\n",
    "\n",
    "# Iterate over hyperparameter space - currently only vgg19\n",
    "# hyperparams to iterate: head_type,# nb_filters_conv_1_1_first, nb_filters_conv_1_1_second, fc_layer_size_1,\n",
    "# fc_layer_size_2, freeze_layer, learning rate, weight decay,dropout_rate, batch size, \n",
    "# Init hyperparams and learning params with relevant values\n",
    "# run model - low number of epochs (1)\n",
    "# calc scores\n",
    "# print changed value only, and scores\n",
    "\n",
    "\n",
    "## Wasn't feasible on my machine to run over all hyper parameters, so by try and error I chose some of them and \n",
    "## and tuned the rest\n",
    "# head_type_opts = ['no_layers', 'one_fc_layer']\n",
    "# nb_filters_conv_1_1_first_opts = [16,32,64,128,256]\n",
    "# nb_filters_conv_1_1_second_opts = [8,16,32,64,128]\n",
    "# fc_layer_size_1_opts = [32,64,128,256,512,1024]\n",
    "# fc_layer_size_2_opts = [16,32,64,128,256,512]\n",
    "freeze_layer_id_opts = [20,21]#for resnet need to edit to last layers\n",
    "batch_size_opts = [16,32]\n",
    "\n",
    "max_clf_acc = 0.0\n",
    "max_clf_hyper_params = Hyper_params()\n",
    "max_clf_learning_params = Learning_params()\n",
    "\n",
    "learning_params.nb_max_epoch = 1 # restrict num epochs per test\n",
    "is_save_ckpts = False\n",
    "\n",
    "num_options = 2*2*3*3*3\n",
    "count = 0\n",
    "for freeze_layer_id in freeze_layer_id_opts:\n",
    "    hyper_params.freeze_layer_id = freeze_layer_id\n",
    "    for batch_size in batch_size_opts:        \n",
    "        for i in range(0,3):\n",
    "            for j in range(0,3):\n",
    "                for k in range(0,3):                     \n",
    "                    learning_rate = 10**uniform(-6,-1)\n",
    "                    hyper_params.lr.init = learning_rate\n",
    "                    weight_decay = 10**uniform(-6,0)\n",
    "                    hyper_params.weight_decay = weight_decay\n",
    "                    dropout_rate = uniform(0,1)\n",
    "                    hyper_params.dropout_rate = dropout_rate\n",
    "                   \n",
    "                    print '\\n\\n'    \n",
    "                    learning_params.batch_size = batch_size\n",
    "                    print 'freeze_layer_id: ' + str(freeze_layer_id)\n",
    "                    print 'learning_rate: ' + str(learning_rate)\n",
    "                    print 'weight_decay: ' + str(weight_decay)\n",
    "                    print 'dropout_rate: ' + str(dropout_rate)\n",
    "                    print 'batch_size: ' + str(batch_size) +'\\n'\n",
    "                    count = count + 1\n",
    "                    print 'processing option number ' + str(count) + ' out of ' + str(num_options)                                                            \n",
    "                    clf_model.build_model(input_shape=train_dataset.images[0,:,:,:].shape,\n",
    "                                          hyper_params=hyper_params)      \n",
    "                    clf_model.compile_model(learning_params, is_save_ckpts)\n",
    "                    clf_model.train(train_data=train_dataset.images,train_labels=train_dataset.labels,\n",
    "                            validation_data=val_dataset.images, validation_labels=val_dataset.labels)\n",
    "                    clf_model_evaluator = Model_evaluator(clf_model, train_dataset.class_names)\n",
    "                    clf_score = clf_model_evaluator.get_classifier_score(dataset=val_dataset)\n",
    "                    if clf_score[1] > max_clf_acc:\n",
    "                        print 'max clf acc found!! acc =  ' + str(clf_score[1])\n",
    "                        max_clf_acc = clf_score[1]\n",
    "                        max_clf_hyper_params = hyper_params\n",
    "                        max_clf_learning_params = learning_params\n",
    "                    clf_model.delete_model()"
   ]
  },
  {
   "cell_type": "code",
   "execution_count": 5,
   "metadata": {},
   "outputs": [
    {
     "name": "stdout",
     "output_type": "stream",
     "text": [
      "0 image_input\n",
      "1 vgg19\n",
      "2 bottlekneck_1_1_conv_1\n",
      "3 batch_norm_1\n",
      "4 bottlekneck_1_1_conv_2\n",
      "5 batch_norm_2\n",
      "6 flatten\n",
      "7 dropout\n",
      "8 predictions\n",
      "____________________________________________________________________________________________________\n",
      "Layer (type)                     Output Shape          Param #     Connected to                     \n",
      "====================================================================================================\n",
      "image_input (InputLayer)         (None, 224, 224, 3)   0                                            \n",
      "____________________________________________________________________________________________________\n",
      "vgg19 (Model)                    multiple              20024384    image_input[0][0]                \n",
      "____________________________________________________________________________________________________\n",
      "bottlekneck_1_1_conv_1 (Convolut (None, 7, 7, 128)     65664       vgg19[1][0]                      \n",
      "____________________________________________________________________________________________________\n",
      "batch_norm_1 (BatchNormalization (None, 7, 7, 128)     512         bottlekneck_1_1_conv_1[0][0]     \n",
      "____________________________________________________________________________________________________\n",
      "bottlekneck_1_1_conv_2 (Convolut (None, 7, 7, 32)      4128        batch_norm_1[0][0]               \n",
      "____________________________________________________________________________________________________\n",
      "batch_norm_2 (BatchNormalization (None, 7, 7, 32)      128         bottlekneck_1_1_conv_2[0][0]     \n",
      "____________________________________________________________________________________________________\n",
      "flatten (Flatten)                (None, 1568)          0           batch_norm_2[0][0]               \n",
      "____________________________________________________________________________________________________\n",
      "dropout (Dropout)                (None, 1568)          0           flatten[0][0]                    \n",
      "____________________________________________________________________________________________________\n",
      "predictions (Dense)              (None, 10)            15690       dropout[0][0]                    \n",
      "====================================================================================================\n",
      "Total params: 20,110,506\n",
      "Trainable params: 85,802\n",
      "Non-trainable params: 20,024,704\n",
      "____________________________________________________________________________________________________\n",
      "____________________________________________________________________________________________________\n",
      "Layer (type)                     Output Shape          Param #     Connected to                     \n",
      "====================================================================================================\n",
      "image_input (InputLayer)         (None, 224, 224, 3)   0                                            \n",
      "____________________________________________________________________________________________________\n",
      "vgg19 (Model)                    multiple              20024384    image_input[0][0]                \n",
      "____________________________________________________________________________________________________\n",
      "bottlekneck_1_1_conv_1 (Convolut (None, 7, 7, 128)     65664       vgg19[1][0]                      \n",
      "____________________________________________________________________________________________________\n",
      "batch_norm_1 (BatchNormalization (None, 7, 7, 128)     512         bottlekneck_1_1_conv_1[0][0]     \n",
      "____________________________________________________________________________________________________\n",
      "bottlekneck_1_1_conv_2 (Convolut (None, 7, 7, 32)      4128        batch_norm_1[0][0]               \n",
      "____________________________________________________________________________________________________\n",
      "batch_norm_2 (BatchNormalization (None, 7, 7, 32)      128         bottlekneck_1_1_conv_2[0][0]     \n",
      "____________________________________________________________________________________________________\n",
      "flatten (Flatten)                (None, 1568)          0           batch_norm_2[0][0]               \n",
      "____________________________________________________________________________________________________\n",
      "dropout (Dropout)                (None, 1568)          0           flatten[0][0]                    \n",
      "____________________________________________________________________________________________________\n",
      "predictions (Dense)              (None, 10)            15690       dropout[0][0]                    \n",
      "====================================================================================================\n",
      "Total params: 20,110,506\n",
      "Trainable params: 85,802\n",
      "Non-trainable params: 20,024,704\n",
      "____________________________________________________________________________________________________\n",
      "Train on 17396 samples, validate on 1601 samples\n",
      "Epoch 1/100\n",
      "17376/17396 [============================>.] - ETA: 0s - loss: 0.9644 - acc: 0.7232Epoch 00000: val_acc improved from inf to 0.81449, saving model to experiments/2017-08-27 15:52:48/weights/_weights-improvement-00-0.814-0.659_2017-08-27 15:54:39.hdf5\n",
      "17396/17396 [==============================] - 85s - loss: 0.9640 - acc: 0.7231 - val_loss: 0.6591 - val_acc: 0.8145\n",
      "Epoch 2/100\n",
      "10720/17396 [=================>............] - ETA: 31s - loss: 0.6020 - acc: 0.8233Training summary\n",
      "['acc', 'loss', 'val_acc', 'val_loss']\n",
      "[[0.72309726377990668], [0.96400430238666301], [0.81449094316052473], [0.65914514785554545]]\n"
     ]
    },
    {
     "data": {
      "image/png": "[encoded data removed]",
      "text/plain": [
       "<matplotlib.figure.Figure at 0x7f7c71c01150>"
      ]
     },
     "metadata": {},
     "output_type": "display_data"
    },
    {
     "data": {
      "image/png": "[encoded data removed]",
      "text/plain": [
       "<matplotlib.figure.Figure at 0x7f7c712af850>"
      ]
     },
     "metadata": {},
     "output_type": "display_data"
    }
   ],
   "source": [
    "# Keep max clf_score set and params\n",
    "# Train model again - larger number of epochs\n",
    "\n",
    "# Load best parameter set\n",
    "max_clf_learning_params = learning_params\n",
    "max_clf_hyper_params = hyper_params\n",
    "max_clf_hyper_params.freeze_layer_id = 21\n",
    "max_clf_hyper_params.lr.init = 0.00102382988483\n",
    "max_clf_hyper_params.weight_decay = 0.000173410239311\n",
    "max_clf_hyper_params.dropout_rate = 0.491165771543\n",
    "max_clf_learning_params.batch_size = 32\n",
    "\n",
    "# Train over many epochs with early stop callback\n",
    "learning_params.nb_max_epoch = 100 # full train on best clf found\n",
    "is_save_ckpts = True\n",
    "\n",
    "is_use_classes_weights = False\n",
    "classes_weights = None\n",
    "if is_use_classes_weights:\n",
    "    classes_weights = train_dataset.classes_weights\n",
    "\n",
    "clf_model.build_model(input_shape=train_dataset.images[0,:,:,:].shape,\n",
    "                      hyper_params=max_clf_hyper_params)      \n",
    "clf_model.compile_model(max_clf_learning_params, is_save_ckpts)\n",
    "clf_model.train(train_dataset.images,train_dataset.labels,\n",
    "        val_dataset.images, val_dataset.labels, classes_weights)"
   ]
  },
  {
   "cell_type": "code",
   "execution_count": 6,
   "metadata": {
    "scrolled": true
   },
   "outputs": [
    {
     "name": "stdout",
     "output_type": "stream",
     "text": [
      "1600/1601 [============================>.] - ETA: 0sval set loss: 0.605322556225\n",
      "val set accuracy: 0.826358525921\n",
      "             precision    recall  f1-score   support\n",
      "\n",
      "       1521       0.87      0.88      0.88       312\n",
      "       1703       0.77      0.74      0.75        97\n",
      "       1707       0.75      0.77      0.76        81\n",
      "       1729       0.64      0.71      0.67       187\n",
      "       1751       0.85      0.80      0.82       111\n",
      "       1755       0.87      0.92      0.90       712\n",
      "       1837       0.89      0.64      0.75        39\n",
      "       2037       0.00      0.00      0.00        29\n",
      "       2525       0.69      0.38      0.49        24\n",
      "       2526       0.00      0.00      0.00         9\n",
      "\n",
      "avg / total       0.81      0.83      0.81      1601\n",
      "\n",
      "[[276   2   4  17   2   7   0   0   4   0]\n",
      " [  0  72   2  10   5   8   0   0   0   0]\n",
      " [  4   3  62   4   2   6   0   0   0   0]\n",
      " [ 10   7   7 132   4  27   0   0   0   0]\n",
      " [  1   4   5   7  89   5   0   0   0   0]\n",
      " [ 15   1   3  31   2 658   2   0   0   0]\n",
      " [  1   0   0   2   1  10  25   0   0   0]\n",
      " [  1   2   0   0   0  26   0   0   0   0]\n",
      " [ 10   2   0   2   0   1   0   0   9   0]\n",
      " [  0   1   0   0   0   7   1   0   0   0]]\n"
     ]
    },
    {
     "name": "stderr",
     "output_type": "stream",
     "text": [
      "/usr/lib/python2.7/dist-packages/sklearn/metrics/metrics.py:1905: UserWarning: The sum of true positives and false positives are equal to zero for some labels. Precision is ill defined for those labels [7 9]. The precision and recall are equal to zero for some labels. fbeta_score is ill defined for those labels [7 9]. \n",
      "  average=None)\n"
     ]
    }
   ],
   "source": [
    "# Evaluate model\n",
    "clf_model_evaluator = Model_evaluator(clf_model, train_dataset.class_names)\n",
    "clf_score = clf_model_evaluator.get_classifier_score(dataset=val_dataset)\n",
    "clf_model_evaluator = Model_evaluator(clf_model, train_dataset.class_names)\n",
    "clf_model_evaluator.evaluate(dataset=val_dataset)"
   ]
  },
  {
   "cell_type": "code",
   "execution_count": 7,
   "metadata": {},
   "outputs": [],
   "source": [
    "## Save  best model weights to best model directory\n",
    "## All check points are in experiment directory, possible to load intermediate checkpoints if overfit occured\n",
    "if not os.path.exists('best_model'):\n",
    "        os.makedirs('best_model')\n",
    "clf_model.model.save_weights('best_model/best_weights.h5')"
   ]
  },
  {
   "cell_type": "code",
   "execution_count": null,
   "metadata": {
    "collapsed": true
   },
   "outputs": [],
   "source": [
    "# # # Production - Train over full training set"
   ]
  },
  {
   "cell_type": "code",
   "execution_count": 5,
   "metadata": {},
   "outputs": [
    {
     "name": "stdout",
     "output_type": "stream",
     "text": [
      "creating production_train dataset\n",
      "data/full\n",
      "10 Classes detected:\n",
      "['1521', '1703', '1707', '1729', '1751', '1755', '1837', '2037', '2525', '2526']\n",
      "Loading 10299 unique images from data/full/ directory\n",
      "Found 10299 images belonging to 10 classes.\n"
     ]
    },
    {
     "ename": "KeyboardInterrupt",
     "evalue": "",
     "output_type": "error",
     "traceback": [
      "\u001b[0;31m---------------------------------------------------------------------------\u001b[0m",
      "\u001b[0;31mKeyboardInterrupt\u001b[0m                         Traceback (most recent call last)",
      "\u001b[0;32m<ipython-input-5-bee77d3638f2>\u001b[0m in \u001b[0;36m<module>\u001b[0;34m()\u001b[0m\n\u001b[1;32m     10\u001b[0m                         \u001b[0mis_production\u001b[0m \u001b[0;34m=\u001b[0m \u001b[0mTrue\u001b[0m\u001b[0;34m,\u001b[0m\u001b[0;34m\u001b[0m\u001b[0m\n\u001b[1;32m     11\u001b[0m                         \u001b[0maugment_factor\u001b[0m\u001b[0;34m=\u001b[0m\u001b[0;36m2.0\u001b[0m\u001b[0;34m,\u001b[0m \u001b[0mfliplr\u001b[0m\u001b[0;34m=\u001b[0m\u001b[0mTrue\u001b[0m\u001b[0;34m,\u001b[0m\u001b[0;34m\u001b[0m\u001b[0m\n\u001b[0;32m---> 12\u001b[0;31m                         shift_range=0.2, zoom_range=0.2)\n\u001b[0m",
      "\u001b[0;32m/root/olx/scripts/dataset.pyc\u001b[0m in \u001b[0;36m__init__\u001b[0;34m(self, data_dir, dataset_name, pretrained_model, class_names, is_resize, target_size, augment_factor, fliplr, rotate_range, shift_range, zoom_range, luminance_range, is_production)\u001b[0m\n\u001b[1;32m     70\u001b[0m         \u001b[0mself\u001b[0m\u001b[0;34m.\u001b[0m\u001b[0maugment_factor\u001b[0m \u001b[0;34m=\u001b[0m \u001b[0maugment_factor\u001b[0m\u001b[0;34m\u001b[0m\u001b[0m\n\u001b[1;32m     71\u001b[0m         self.load_and_augment_images(fliplr, rotate_range,\n\u001b[0;32m---> 72\u001b[0;31m                  shift_range, zoom_range, luminance_range)\n\u001b[0m\u001b[1;32m     73\u001b[0m         \u001b[0;32mif\u001b[0m \u001b[0mis_resize\u001b[0m\u001b[0;34m:\u001b[0m\u001b[0;34m\u001b[0m\u001b[0m\n\u001b[1;32m     74\u001b[0m             \u001b[0mself\u001b[0m\u001b[0;34m.\u001b[0m\u001b[0mresize_images\u001b[0m\u001b[0;34m(\u001b[0m\u001b[0mresize_size\u001b[0m\u001b[0;34m)\u001b[0m\u001b[0;34m\u001b[0m\u001b[0m\n",
      "\u001b[0;32m/root/olx/scripts/dataset.pyc\u001b[0m in \u001b[0;36mload_and_augment_images\u001b[0;34m(self, fliplr, rotate_range, shift_range, zoom_range, luminance_range)\u001b[0m\n\u001b[1;32m    142\u001b[0m         \u001b[0mind\u001b[0m \u001b[0;34m=\u001b[0m \u001b[0;36m0\u001b[0m\u001b[0;34m\u001b[0m\u001b[0m\n\u001b[1;32m    143\u001b[0m         \u001b[0;32mwhile\u001b[0m \u001b[0mTrue\u001b[0m\u001b[0;34m:\u001b[0m\u001b[0;34m\u001b[0m\u001b[0m\n\u001b[0;32m--> 144\u001b[0;31m             \u001b[0mbatch_data\u001b[0m\u001b[0;34m,\u001b[0m \u001b[0mbatch_labels\u001b[0m  \u001b[0;34m=\u001b[0m \u001b[0mgenerator\u001b[0m\u001b[0;34m.\u001b[0m\u001b[0mnext\u001b[0m\u001b[0;34m(\u001b[0m\u001b[0;34m)\u001b[0m\u001b[0;34m\u001b[0m\u001b[0m\n\u001b[0m\u001b[1;32m    145\u001b[0m             \u001b[0mnum_images_gen\u001b[0m \u001b[0;34m=\u001b[0m \u001b[0mlen\u001b[0m\u001b[0;34m(\u001b[0m\u001b[0mbatch_data\u001b[0m\u001b[0;34m)\u001b[0m\u001b[0;34m\u001b[0m\u001b[0m\n\u001b[1;32m    146\u001b[0m             \u001b[0;32mif\u001b[0m \u001b[0mind\u001b[0m \u001b[0;34m+\u001b[0m \u001b[0mnum_images_gen\u001b[0m \u001b[0;34m>=\u001b[0m \u001b[0mself\u001b[0m\u001b[0;34m.\u001b[0m\u001b[0mnb_samples\u001b[0m\u001b[0;34m:\u001b[0m\u001b[0;34m\u001b[0m\u001b[0m\n",
      "\u001b[0;32m/usr/local/lib/python2.7/dist-packages/keras/preprocessing/image.pyc\u001b[0m in \u001b[0;36mnext\u001b[0;34m(self)\u001b[0m\n\u001b[1;32m    691\u001b[0m                            target_size=self.target_size)\n\u001b[1;32m    692\u001b[0m             \u001b[0mx\u001b[0m \u001b[0;34m=\u001b[0m \u001b[0mimg_to_array\u001b[0m\u001b[0;34m(\u001b[0m\u001b[0mimg\u001b[0m\u001b[0;34m,\u001b[0m \u001b[0mdim_ordering\u001b[0m\u001b[0;34m=\u001b[0m\u001b[0mself\u001b[0m\u001b[0;34m.\u001b[0m\u001b[0mdim_ordering\u001b[0m\u001b[0;34m)\u001b[0m\u001b[0;34m\u001b[0m\u001b[0m\n\u001b[0;32m--> 693\u001b[0;31m             \u001b[0mx\u001b[0m \u001b[0;34m=\u001b[0m \u001b[0mself\u001b[0m\u001b[0;34m.\u001b[0m\u001b[0mimage_data_generator\u001b[0m\u001b[0;34m.\u001b[0m\u001b[0mrandom_transform\u001b[0m\u001b[0;34m(\u001b[0m\u001b[0mx\u001b[0m\u001b[0;34m)\u001b[0m\u001b[0;34m\u001b[0m\u001b[0m\n\u001b[0m\u001b[1;32m    694\u001b[0m             \u001b[0mx\u001b[0m \u001b[0;34m=\u001b[0m \u001b[0mself\u001b[0m\u001b[0;34m.\u001b[0m\u001b[0mimage_data_generator\u001b[0m\u001b[0;34m.\u001b[0m\u001b[0mstandardize\u001b[0m\u001b[0;34m(\u001b[0m\u001b[0mx\u001b[0m\u001b[0;34m)\u001b[0m\u001b[0;34m\u001b[0m\u001b[0m\n\u001b[1;32m    695\u001b[0m             \u001b[0mbatch_x\u001b[0m\u001b[0;34m[\u001b[0m\u001b[0mi\u001b[0m\u001b[0;34m]\u001b[0m \u001b[0;34m=\u001b[0m \u001b[0mx\u001b[0m\u001b[0;34m\u001b[0m\u001b[0m\n",
      "\u001b[0;32m/usr/local/lib/python2.7/dist-packages/keras/preprocessing/image.pyc\u001b[0m in \u001b[0;36mrandom_transform\u001b[0;34m(self, x)\u001b[0m\n\u001b[1;32m    401\u001b[0m         \u001b[0mtransform_matrix\u001b[0m \u001b[0;34m=\u001b[0m \u001b[0mtransform_matrix_offset_center\u001b[0m\u001b[0;34m(\u001b[0m\u001b[0mtransform_matrix\u001b[0m\u001b[0;34m,\u001b[0m \u001b[0mh\u001b[0m\u001b[0;34m,\u001b[0m \u001b[0mw\u001b[0m\u001b[0;34m)\u001b[0m\u001b[0;34m\u001b[0m\u001b[0m\n\u001b[1;32m    402\u001b[0m         x = apply_transform(x, transform_matrix, img_channel_index,\n\u001b[0;32m--> 403\u001b[0;31m                             fill_mode=self.fill_mode, cval=self.cval)\n\u001b[0m\u001b[1;32m    404\u001b[0m         \u001b[0;32mif\u001b[0m \u001b[0mself\u001b[0m\u001b[0;34m.\u001b[0m\u001b[0mchannel_shift_range\u001b[0m \u001b[0;34m!=\u001b[0m \u001b[0;36m0\u001b[0m\u001b[0;34m:\u001b[0m\u001b[0;34m\u001b[0m\u001b[0m\n\u001b[1;32m    405\u001b[0m             \u001b[0mx\u001b[0m \u001b[0;34m=\u001b[0m \u001b[0mrandom_channel_shift\u001b[0m\u001b[0;34m(\u001b[0m\u001b[0mx\u001b[0m\u001b[0;34m,\u001b[0m \u001b[0mself\u001b[0m\u001b[0;34m.\u001b[0m\u001b[0mchannel_shift_range\u001b[0m\u001b[0;34m,\u001b[0m \u001b[0mimg_channel_index\u001b[0m\u001b[0;34m)\u001b[0m\u001b[0;34m\u001b[0m\u001b[0m\n",
      "\u001b[0;32m/usr/local/lib/python2.7/dist-packages/keras/preprocessing/image.pyc\u001b[0m in \u001b[0;36mapply_transform\u001b[0;34m(x, transform_matrix, channel_index, fill_mode, cval)\u001b[0m\n\u001b[1;32m    107\u001b[0m     \u001b[0mfinal_offset\u001b[0m \u001b[0;34m=\u001b[0m \u001b[0mtransform_matrix\u001b[0m\u001b[0;34m[\u001b[0m\u001b[0;34m:\u001b[0m\u001b[0;36m2\u001b[0m\u001b[0;34m,\u001b[0m \u001b[0;36m2\u001b[0m\u001b[0;34m]\u001b[0m\u001b[0;34m\u001b[0m\u001b[0m\n\u001b[1;32m    108\u001b[0m     channel_images = [ndi.interpolation.affine_transform(x_channel, final_affine_matrix,\n\u001b[0;32m--> 109\u001b[0;31m                       final_offset, order=0, mode=fill_mode, cval=cval) for x_channel in x]\n\u001b[0m\u001b[1;32m    110\u001b[0m     \u001b[0mx\u001b[0m \u001b[0;34m=\u001b[0m \u001b[0mnp\u001b[0m\u001b[0;34m.\u001b[0m\u001b[0mstack\u001b[0m\u001b[0;34m(\u001b[0m\u001b[0mchannel_images\u001b[0m\u001b[0;34m,\u001b[0m \u001b[0maxis\u001b[0m\u001b[0;34m=\u001b[0m\u001b[0;36m0\u001b[0m\u001b[0;34m)\u001b[0m\u001b[0;34m\u001b[0m\u001b[0m\n\u001b[1;32m    111\u001b[0m     \u001b[0mx\u001b[0m \u001b[0;34m=\u001b[0m \u001b[0mnp\u001b[0m\u001b[0;34m.\u001b[0m\u001b[0mrollaxis\u001b[0m\u001b[0;34m(\u001b[0m\u001b[0mx\u001b[0m\u001b[0;34m,\u001b[0m \u001b[0;36m0\u001b[0m\u001b[0;34m,\u001b[0m \u001b[0mchannel_index\u001b[0m\u001b[0;34m+\u001b[0m\u001b[0;36m1\u001b[0m\u001b[0;34m)\u001b[0m\u001b[0;34m\u001b[0m\u001b[0m\n",
      "\u001b[0;32m/usr/local/lib/python2.7/dist-packages/scipy/ndimage/interpolation.pyc\u001b[0m in \u001b[0;36maffine_transform\u001b[0;34m(input, matrix, offset, output_shape, output, order, mode, cval, prefilter)\u001b[0m\n\u001b[1;32m    468\u001b[0m     \u001b[0;32melse\u001b[0m\u001b[0;34m:\u001b[0m\u001b[0;34m\u001b[0m\u001b[0m\n\u001b[1;32m    469\u001b[0m         _geometric_transform(filtered, None, None, matrix, offset,\n\u001b[0;32m--> 470\u001b[0;31m                              output, order, mode, cval, None, None)\n\u001b[0m\u001b[1;32m    471\u001b[0m     \u001b[0;32mreturn\u001b[0m \u001b[0mreturn_value\u001b[0m\u001b[0;34m\u001b[0m\u001b[0m\n\u001b[1;32m    472\u001b[0m \u001b[0;34m\u001b[0m\u001b[0m\n",
      "\u001b[0;32m/usr/local/lib/python2.7/dist-packages/scipy/ndimage/interpolation.pyc\u001b[0m in \u001b[0;36m_geometric_transform\u001b[0;34m(input, mapping, coordinates, matrix, offset, output, order, mode, cval, extra_arguments, extra_keywords)\u001b[0m\n\u001b[1;32m    130\u001b[0m     _nd_image.geometric_transform(\n\u001b[1;32m    131\u001b[0m         \u001b[0minput\u001b[0m\u001b[0;34m,\u001b[0m \u001b[0mmapping\u001b[0m\u001b[0;34m,\u001b[0m \u001b[0mcoordinates\u001b[0m\u001b[0;34m,\u001b[0m \u001b[0mmatrix\u001b[0m\u001b[0;34m,\u001b[0m \u001b[0moffset\u001b[0m\u001b[0;34m,\u001b[0m \u001b[0moutput\u001b[0m\u001b[0;34m,\u001b[0m\u001b[0;34m\u001b[0m\u001b[0m\n\u001b[0;32m--> 132\u001b[0;31m         order, mode, cval, extra_arguments, extra_keywords)\n\u001b[0m\u001b[1;32m    133\u001b[0m \u001b[0;34m\u001b[0m\u001b[0m\n\u001b[1;32m    134\u001b[0m     \u001b[0;32mif\u001b[0m \u001b[0moutput\u001b[0m \u001b[0;32mis\u001b[0m \u001b[0;32mnot\u001b[0m \u001b[0mNone\u001b[0m \u001b[0;32mand\u001b[0m \u001b[0;32mnot\u001b[0m \u001b[0moutput\u001b[0m\u001b[0;34m.\u001b[0m\u001b[0mdtype\u001b[0m\u001b[0;34m.\u001b[0m\u001b[0misnative\u001b[0m\u001b[0;34m:\u001b[0m\u001b[0;34m\u001b[0m\u001b[0m\n",
      "\u001b[0;31mKeyboardInterrupt\u001b[0m: "
     ]
    }
   ],
   "source": [
    "# Load data\n",
    "data_dir = 'data'\n",
    "data_dir = os.path.join(data_dir,'full')\n",
    "is_production = True\n",
    "is_save_ckpts = False\n",
    "\n",
    "print 'creating production_train dataset'\n",
    "prod_train_dataset = Dataset(data_dir,'train', PRETRAINED_MODEL,\n",
    "                        class_names=CLASS_NAMES,\n",
    "                        is_production = True,\n",
    "                        augment_factor=2.0, fliplr=True,\n",
    "                        shift_range=0.2, zoom_range=0.2)"
   ]
  },
  {
   "cell_type": "code",
   "execution_count": 9,
   "metadata": {
    "scrolled": true
   },
   "outputs": [
    {
     "name": "stdout",
     "output_type": "stream",
     "text": [
      "loading vgg 19 network\n",
      "____________________________________________________________________________________________________\n",
      "Layer (type)                     Output Shape          Param #     Connected to                     \n",
      "====================================================================================================\n",
      "input_2 (InputLayer)             (None, None, None, 3) 0                                            \n",
      "____________________________________________________________________________________________________\n",
      "block1_conv1 (Convolution2D)     (None, None, None, 64 1792        input_2[0][0]                    \n",
      "____________________________________________________________________________________________________\n",
      "block1_conv2 (Convolution2D)     (None, None, None, 64 36928       block1_conv1[0][0]               \n",
      "____________________________________________________________________________________________________\n",
      "block1_pool (MaxPooling2D)       (None, None, None, 64 0           block1_conv2[0][0]               \n",
      "____________________________________________________________________________________________________\n",
      "block2_conv1 (Convolution2D)     (None, None, None, 12 73856       block1_pool[0][0]                \n",
      "____________________________________________________________________________________________________\n",
      "block2_conv2 (Convolution2D)     (None, None, None, 12 147584      block2_conv1[0][0]               \n",
      "____________________________________________________________________________________________________\n",
      "block2_pool (MaxPooling2D)       (None, None, None, 12 0           block2_conv2[0][0]               \n",
      "____________________________________________________________________________________________________\n",
      "block3_conv1 (Convolution2D)     (None, None, None, 25 295168      block2_pool[0][0]                \n",
      "____________________________________________________________________________________________________\n",
      "block3_conv2 (Convolution2D)     (None, None, None, 25 590080      block3_conv1[0][0]               \n",
      "____________________________________________________________________________________________________\n",
      "block3_conv3 (Convolution2D)     (None, None, None, 25 590080      block3_conv2[0][0]               \n",
      "____________________________________________________________________________________________________\n",
      "block3_conv4 (Convolution2D)     (None, None, None, 25 590080      block3_conv3[0][0]               \n",
      "____________________________________________________________________________________________________\n",
      "block3_pool (MaxPooling2D)       (None, None, None, 25 0           block3_conv4[0][0]               \n",
      "____________________________________________________________________________________________________\n",
      "block4_conv1 (Convolution2D)     (None, None, None, 51 1180160     block3_pool[0][0]                \n",
      "____________________________________________________________________________________________________\n",
      "block4_conv2 (Convolution2D)     (None, None, None, 51 2359808     block4_conv1[0][0]               \n",
      "____________________________________________________________________________________________________\n",
      "block4_conv3 (Convolution2D)     (None, None, None, 51 2359808     block4_conv2[0][0]               \n",
      "____________________________________________________________________________________________________\n",
      "block4_conv4 (Convolution2D)     (None, None, None, 51 2359808     block4_conv3[0][0]               \n",
      "____________________________________________________________________________________________________\n",
      "block4_pool (MaxPooling2D)       (None, None, None, 51 0           block4_conv4[0][0]               \n",
      "____________________________________________________________________________________________________\n",
      "block5_conv1 (Convolution2D)     (None, None, None, 51 2359808     block4_pool[0][0]                \n",
      "____________________________________________________________________________________________________\n",
      "block5_conv2 (Convolution2D)     (None, None, None, 51 2359808     block5_conv1[0][0]               \n",
      "____________________________________________________________________________________________________\n",
      "block5_conv3 (Convolution2D)     (None, None, None, 51 2359808     block5_conv2[0][0]               \n",
      "____________________________________________________________________________________________________\n",
      "block5_conv4 (Convolution2D)     (None, None, None, 51 2359808     block5_conv3[0][0]               \n",
      "____________________________________________________________________________________________________\n",
      "block5_pool (MaxPooling2D)       (None, None, None, 51 0           block5_conv4[0][0]               \n",
      "====================================================================================================\n",
      "Total params: 20,024,384\n",
      "Trainable params: 0\n",
      "Non-trainable params: 20,024,384\n",
      "____________________________________________________________________________________________________\n",
      "Epoch 1/150\n",
      "20598/20598 [==============================] - 91s - loss: 0.6525 - acc: 0.8079    \n",
      "Epoch 2/150\n",
      " 1728/20598 [=>............................] - ETA: 86s - loss: 0.4319 - acc: 0.8709"
     ]
    }
   ],
   "source": [
    "# Create and train model, start training or load from scratch from last checkpoint\n",
    "\n",
    "# Had an unknown bug while loading and saving models, can't tell why this happened.\n",
    "# This is why I init a new model and loaded weights instead of loading using json files\n",
    "\n",
    "best_hyper_params = Hyper_params(lr=Lr(init=0.00102382988483,decay=0.0), optimization_method='Adam',\n",
    "                           momentum=0.9, weight_decay=0.000173410239311, dropout_rate=0.491165771543,\n",
    "                           freeze_layer_id=21, architecture_head_type='no_layers',\n",
    "                           is_use_batch_normalization=True, nb_filters_conv_1_1_first=128,\n",
    "                           nb_filters_conv_1_1_second=32, fc_layer_size_1=128, fc_layer_size_2=64)\n",
    "best_learning_params = Learning_params(nb_train_samples=prod_train_dataset.nb_samples,\n",
    "                                 batch_size=32, nb_max_epoch=150, \n",
    "                                 nb_samples_per_epoch=prod_train_dataset.nb_samples ,\n",
    "                                 ckpt_period=1, early_stop=Early_stop(is_use=True, min_delta=0.005,patience=15),\n",
    "                                 lr_reduce_on_plateau=Lr_reduce_on_plateau(is_use=True, factor=0.5, min_lr=1e-08, patience=3))\n",
    "best_weights_dir = 'best_model'\n",
    "best_summary_dir = best_weights_dir\n",
    "best_model = Classification_model(10, best_weights_dir, best_summary_dir, PRETRAINED_MODEL,False)\n",
    "best_model.build_model(input_shape=prod_train_dataset.images[0,:,:,:].shape,\n",
    "                       hyper_params=best_hyper_params)\n",
    "\n",
    "best_model.model.load_weights(os.path.join(best_weights_dir,'best_weights.h5'))\n",
    "best_model.compile_model(best_learning_params, is_save_ckpts, is_production)\n",
    "best_model.train(prod_train_dataset.images, prod_train_dataset.labels, is_production=True)"
   ]
  },
  {
   "cell_type": "code",
   "execution_count": 10,
   "metadata": {
    "collapsed": true
   },
   "outputs": [],
   "source": [
    "# Save production model \n",
    "best_model.model.save_weights('best_model/production_weights.h5')"
   ]
  },
  {
   "cell_type": "code",
   "execution_count": 16,
   "metadata": {
    "collapsed": true
   },
   "outputs": [],
   "source": [
    "## Generate predictions on test set\n"
   ]
  },
  {
   "cell_type": "code",
   "execution_count": 3,
   "metadata": {},
   "outputs": [
    {
     "name": "stdout",
     "output_type": "stream",
     "text": [
      "Copying images to test dir\n",
      "pre-processing test/images dir\n",
      "Found 4674 images belonging to 1 classes.\n"
     ]
    }
   ],
   "source": [
    "# Copy images to test dir \n",
    "\n",
    "test_images = classifier_utils.load_test_images(test_file, test_dir,PRETRAINED_MODEL)\n"
   ]
  },
  {
   "cell_type": "code",
   "execution_count": 21,
   "metadata": {
    "collapsed": true
   },
   "outputs": [],
   "source": [
    "# Predict images and save\n",
    "predictions = best_model.model.predict(test_images)\n",
    "out_classes = np.argmax(predictions, axis=1)\n",
    "classifier_utils.generate_output_file(test_file, 'results_test.txt', out_classes, CLASS_NAMES)"
   ]
  }
 ],
 "metadata": {
  "kernelspec": {
   "display_name": "Python 2",
   "language": "python",
   "name": "python2"
  },
  "language_info": {
   "codemirror_mode": {
    "name": "ipython",
    "version": 2
   },
   "file_extension": ".py",
   "mimetype": "text/x-python",
   "name": "python",
   "nbconvert_exporter": "python",
   "pygments_lexer": "ipython2",
   "version": "2.7.6"
  }
 },
 "nbformat": 4,
 "nbformat_minor": 2
}
